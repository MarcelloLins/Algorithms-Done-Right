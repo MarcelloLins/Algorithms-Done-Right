{
 "cells": [
  {
   "cell_type": "markdown",
   "metadata": {},
   "source": [
    "## The goal of this notebook is to implement a simple linked-list structure and the most commonly asked algorithms associated to it"
   ]
  },
  {
   "cell_type": "code",
   "execution_count": 95,
   "metadata": {
    "collapsed": true
   },
   "outputs": [],
   "source": [
    "# A node contains only a value for itself, and a reference to the next node (a link)\n",
    "class node:\n",
    "    \n",
    "    def __init__(self, value=None, next=None):\n",
    "        self.value = value\n",
    "        self.next = next\n",
    "        \n",
    "    def __str__(self):\n",
    "        return str(self.value)"
   ]
  },
  {
   "cell_type": "code",
   "execution_count": 96,
   "metadata": {
    "collapsed": false
   },
   "outputs": [
    {
     "name": "stdout",
     "output_type": "stream",
     "text": [
      "1 2 3\n"
     ]
    }
   ],
   "source": [
    "# Usage Examples\n",
    "node_one = node(1)\n",
    "node_two = node(2)\n",
    "node_three = node(3)\n",
    "\n",
    "print node_one, node_two, node_three\n",
    "\n",
    "# Linking Nodes\n",
    "node_one.next = node_two\n",
    "node_two.next = node_three"
   ]
  },
  {
   "cell_type": "markdown",
   "metadata": {},
   "source": [
    "### Challenge: Print a linked list"
   ]
  },
  {
   "cell_type": "code",
   "execution_count": 97,
   "metadata": {
    "collapsed": false
   },
   "outputs": [
    {
     "name": "stdout",
     "output_type": "stream",
     "text": [
      "1 2 3\n"
     ]
    }
   ],
   "source": [
    "# Prints a whole list, by iterating from one node to the next\n",
    "def print_list(node):\n",
    "    while node:\n",
    "        print node,\n",
    "        node = node.next\n",
    "        \n",
    "# Testing it\n",
    "print_list(node_one)\n"
   ]
  },
  {
   "cell_type": "markdown",
   "metadata": {},
   "source": [
    "### Challenge: Print a linked list backwards"
   ]
  },
  {
   "cell_type": "code",
   "execution_count": 98,
   "metadata": {
    "collapsed": false
   },
   "outputs": [
    {
     "name": "stdout",
     "output_type": "stream",
     "text": [
      "3 2 1\n"
     ]
    }
   ],
   "source": [
    "def print_list_backwards(node):\n",
    "    \n",
    "    # Recursion stop condition\n",
    "    if node is None: return\n",
    "    \n",
    "    # Recursion Call\n",
    "    print_list_backwards(node.next)\n",
    "    print node,\n",
    "    \n",
    "# Testing it\n",
    "print_list_backwards(node_one)"
   ]
  },
  {
   "cell_type": "markdown",
   "metadata": {},
   "source": [
    "### Wrapper Class \"LinkedList\" \n",
    "For some algorithms and challenges, having a \"Wrapper\" class that actually holds the list itself, is necessary. In order to solve those challenges, here's an example of what a WrapperClass could look like.\n",
    "\n",
    "Down below, you can find some challenges that can be easily solved once you have a class like this in place"
   ]
  },
  {
   "cell_type": "code",
   "execution_count": 99,
   "metadata": {
    "collapsed": false
   },
   "outputs": [],
   "source": [
    "class linked_list:\n",
    "    \n",
    "    # Initializing Useful Attributes that will help keep the list under control\n",
    "    def __init__(self):\n",
    "        self.head = None\n",
    "        self.tail = None\n",
    "        self.length = 0\n",
    "        self.mid = 0\n",
    "    \n",
    "    # Printing the list starting from the head node\n",
    "    def print_list(self):\n",
    "        node = self.head\n",
    "        while node:\n",
    "            print node,\n",
    "            node = node.next\n",
    "    \n",
    "    # Adds a node on the end of the list\n",
    "    def add_node_end(self, node):\n",
    "        \n",
    "        # Is the list empty ? \n",
    "        if self.head is None and self.tail is None:\n",
    "            self.head = self.tail = node\n",
    "            self.length = 1\n",
    "        else:\n",
    "            self.tail.next = node\n",
    "            self.tail = node\n",
    "            self.length += 1\n",
    "            \n",
    "    # Adds a node on the start of the list\n",
    "    def add_node_start(self, node):\n",
    "        \n",
    "        # Is the list empty ? \n",
    "        if self.head is None and self.tail is None:\n",
    "            self.head = self.tail = node\n",
    "            self.length = 1\n",
    "        else:\n",
    "            # Points the node to the current head\n",
    "            node.next = self.head\n",
    "            # Updates the head to the new node\n",
    "            self.head = node\n",
    "            self.length += 1\n",
    "        \n",
    "    # Removes the last node of the list\n",
    "    def remove_node_end(self):\n",
    "        \n",
    "        # Empty List\n",
    "        if self.length is 0: return\n",
    "        \n",
    "        # Iterating through the list until we find the node right before the tail\n",
    "        node = self.head\n",
    "        while node.next is not self.tail and node.next is not None:\n",
    "            node = node.next\n",
    "            \n",
    "        # Saving reference to the current tail, so we can return it\n",
    "        tmp = self.tail\n",
    "            \n",
    "        # At this point, \"node\" is the node right before the tail\n",
    "        # So all we have to do is clear the references to the next one, and re-reference the tail to the new one\n",
    "        node.next = None\n",
    "        self.tail = node\n",
    "        self.length -= 1\n",
    "        return tmp\n",
    "        \n",
    "    # Removes the first node of the list, returns the removed node\n",
    "    def remove_node_start(self):\n",
    "                \n",
    "        # Pointing the head to the second node\n",
    "        node = self.head\n",
    "        self.head = self.head.next\n",
    "        self.length -= 1\n",
    "        return node"
   ]
  },
  {
   "cell_type": "code",
   "execution_count": 100,
   "metadata": {
    "collapsed": false
   },
   "outputs": [
    {
     "name": "stdout",
     "output_type": "stream",
     "text": [
      "\n",
      "Adding 4 Nodes at the start\n",
      "3 2 1 4 \n",
      "Adding 2 Nodes at the end\n",
      "3 2 1 4 5 6 \n",
      "Removing 2 Nodes at the start\n",
      "1 4 5 6  - Removed 3,2\n",
      "\n",
      "Removing 2 Nodes at the end\n",
      "1 4  - Removed 6,5\n",
      "Empty List - Length: 0\n"
     ]
    }
   ],
   "source": [
    "# Testing it\n",
    "lst = linked_list()\n",
    "\n",
    "print '\\nAdding 4 Nodes at the start'\n",
    "lst.add_node_start(node(4))\n",
    "lst.add_node_start(node(1))\n",
    "lst.add_node_start(node(2))\n",
    "lst.add_node_start(node(3))\n",
    "\n",
    "# Should print 3,2,1,4\n",
    "lst.print_list()\n",
    "\n",
    "print '\\nAdding 2 Nodes at the end'\n",
    "lst.add_node_end(node(5))\n",
    "lst.add_node_end(node(6))\n",
    "\n",
    "# Should print 3,2,1,4,5,6\n",
    "lst.print_list()\n",
    "\n",
    "print '\\nRemoving 2 Nodes at the start'\n",
    "removed_start = []\n",
    "removed = lst.remove_node_start()\n",
    "removed_start.append(str(removed))\n",
    "\n",
    "removed = lst.remove_node_start()\n",
    "removed_start.append(str(removed))\n",
    "\n",
    "\n",
    "# Should Print 1,4,5,6\n",
    "lst.print_list()\n",
    "print ' - Removed %s' % (','.join(removed_start))\n",
    "\n",
    "print '\\nRemoving 2 Nodes at the end'\n",
    "removed_end = []\n",
    "removed = lst.remove_node_end()\n",
    "removed_end.append(str(removed))\n",
    "\n",
    "removed = lst.remove_node_end()\n",
    "removed_end.append(str(removed))\n",
    "\n",
    "# Should Print 1,4\n",
    "lst.print_list()\n",
    "print ' - Removed %s' % (','.join(removed_end))  \n",
    "\n",
    "lst.remove_node_end()\n",
    "lst.remove_node_end()\n",
    "print 'Empty List - Length: %d' % lst.length"
   ]
  },
  {
   "cell_type": "markdown",
   "metadata": {},
   "source": [
    "### Challenge: Merge Two SORTED Linked Lists"
   ]
  },
  {
   "cell_type": "code",
   "execution_count": 101,
   "metadata": {
    "collapsed": false
   },
   "outputs": [],
   "source": [
    "def merge_sorted_lists(lst_one, lst_two):\n",
    "    \n",
    "    # Exceptional Cases\n",
    "    if lst_one is None: return lst_two\n",
    "    if lst_two is None: return lst_one\n",
    "    \n",
    "    merged = linked_list()\n",
    "    while lst_one.head is not None and lst_two.head is not None:\n",
    "                \n",
    "        if lst_one.head.value < lst_two.head.value:\n",
    "            to_be_merged = lst_one.remove_node_start()            \n",
    "        else:\n",
    "            to_be_merged = lst_two.remove_node_start()\n",
    "        \n",
    "        merged.add_node_end(to_be_merged)\n",
    "        \n",
    "    # Adding remainder of list\n",
    "    if lst_one.head is None:\n",
    "        # Remainder List is \"List Two\"\n",
    "        merged.add_node_end(lst_two.head)\n",
    "    else:\n",
    "        merged.add_node_end(lst_one.head)\n",
    "        \n",
    "    return merged"
   ]
  },
  {
   "cell_type": "code",
   "execution_count": 102,
   "metadata": {
    "collapsed": false
   },
   "outputs": [
    {
     "name": "stdout",
     "output_type": "stream",
     "text": [
      "List One : \n",
      "1 3 3 5 \n",
      "List Two : \n",
      "2 4 6 8 10 \n",
      "Merged List\n",
      "1 2 3 3 4 5 6 8 10\n"
     ]
    }
   ],
   "source": [
    "lst_one = linked_list()\n",
    "lst_one.add_node_end(node(1))\n",
    "lst_one.add_node_end(node(3))\n",
    "lst_one.add_node_end(node(3))\n",
    "lst_one.add_node_end(node(5))\n",
    "\n",
    "print 'List One : '\n",
    "lst_one.print_list()\n",
    "\n",
    "lst_two = linked_list()\n",
    "lst_two.add_node_end(node(2))\n",
    "lst_two.add_node_end(node(4))\n",
    "lst_two.add_node_end(node(6))\n",
    "lst_two.add_node_end(node(8))\n",
    "lst_two.add_node_end(node(10))\n",
    "\n",
    "print '\\nList Two : '\n",
    "lst_two.print_list()\n",
    "\n",
    "print '\\nMerged List'\n",
    "merge_sorted_lists(lst_one, lst_two).print_list()\n"
   ]
  },
  {
   "cell_type": "code",
   "execution_count": null,
   "metadata": {
    "collapsed": true
   },
   "outputs": [],
   "source": []
  }
 ],
 "metadata": {
  "kernelspec": {
   "display_name": "Python 2",
   "language": "python",
   "name": "python2"
  },
  "language_info": {
   "codemirror_mode": {
    "name": "ipython",
    "version": 2
   },
   "file_extension": ".py",
   "mimetype": "text/x-python",
   "name": "python",
   "nbconvert_exporter": "python",
   "pygments_lexer": "ipython2",
   "version": "2.7.9"
  }
 },
 "nbformat": 4,
 "nbformat_minor": 0
}
