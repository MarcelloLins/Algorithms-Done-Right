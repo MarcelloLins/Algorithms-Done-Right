{
 "cells": [
  {
   "cell_type": "markdown",
   "metadata": {},
   "source": [
    "## The goal of this notebook is to present both array and string related challenges and their solutions"
   ]
  },
  {
   "cell_type": "markdown",
   "metadata": {},
   "source": [
    "### Challenge 1: Determine if a string has all unique characters\n",
    "\n",
    "There are several obvious solutions to this problem, here are just some of them, and their explanatiosn"
   ]
  },
  {
   "cell_type": "code",
   "execution_count": 3,
   "metadata": {
    "collapsed": true
   },
   "outputs": [],
   "source": [
    "# Solution Using Hashset\n",
    "# This solution is easy and short enough, and can be implemented in O(N), assuming the Hashset function will \n",
    "# have little to no colision\n",
    "def has_all_unique_characters_hashset(word):\n",
    "    characters = set()\n",
    "    \n",
    "    for character in word:\n",
    "        if character in characters:\n",
    "            return False\n",
    "        else:\n",
    "            characters.add(character);\n",
    "            \n",
    "    return True    "
   ]
  },
  {
   "cell_type": "code",
   "execution_count": 7,
   "metadata": {
    "collapsed": false
   },
   "outputs": [],
   "source": [
    "# This solution works by creating an array of 26 elements (one for each possible character of the english alphabet)\n",
    "# and flagging it's index with a \"1\" instead of \"0\" everytime we see a different character.\n",
    "# If we ever find an index with a number other than \"0\" it means we found a duplicate\n",
    "# The total cost is still O(N) + O(N) which is O(N).\n",
    "# NOTE: the Ord() method converts a character to it's integer value on the ASCII table (a = 97, and it's used as a base for the math of this code)\n",
    "def has_all_unique_characters_array(word):\n",
    "    characters = [0] * 26\n",
    "    \n",
    "    # Lower Case String\n",
    "    word = word.lower()\n",
    "    \n",
    "    for character in word:\n",
    "        if characters[ord(character) - 97] is not 0:\n",
    "            return False\n",
    "        else :\n",
    "            characters[ord(character) - 97] = 1\n",
    "    \n",
    "    return True    "
   ]
  },
  {
   "cell_type": "code",
   "execution_count": 8,
   "metadata": {
    "collapsed": true
   },
   "outputs": [],
   "source": [
    "# This solution will sort the string (which can cost O(N LOG N) depending on the sort algorithm) and will simply compare if \n",
    "# each element it finds is the same as the following one. If any case matches this comparisson, the code will return that \n",
    "# it found a duplicate.\n",
    "# The total cost of this solution is O(N LOG N) + O(N) (sorting + iterating over the array), which is O(N LOG N)\n",
    "def has_all_unique_characters_array_sorting(word):\n",
    "    \n",
    "    # Sorting the string\n",
    "    sorted_word = sorted(word)\n",
    "    \n",
    "    for i in range(0, len(sorted_word) -1):\n",
    "        if sorted_word[i] is sorted_word[i + 1]:\n",
    "            return False\n",
    "        \n",
    "    return True"
   ]
  },
  {
   "cell_type": "code",
   "execution_count": 10,
   "metadata": {
    "collapsed": false
   },
   "outputs": [
    {
     "name": "stdout",
     "output_type": "stream",
     "text": [
      "Answers using Hashset\n",
      "False\n",
      "True\n",
      "\n",
      "Answers using an array of ints\n",
      "False\n",
      "True\n",
      "\n",
      "Answers using sort\n",
      "False\n",
      "True\n"
     ]
    }
   ],
   "source": [
    "# Testing it\n",
    "word_with_duplicates = 'banana'\n",
    "word_without_duplicates = 'python'\n",
    "\n",
    "print 'Answers using Hashset'\n",
    "print has_all_unique_characters_hashset(word_with_duplicates)\n",
    "print has_all_unique_characters_hashset(word_without_duplicates)\n",
    "\n",
    "print '\\nAnswers using an array of ints'\n",
    "print has_all_unique_characters_array(word_with_duplicates)\n",
    "print has_all_unique_characters_array(word_without_duplicates)\n",
    "\n",
    "print '\\nAnswers using sort'\n",
    "print has_all_unique_characters_array_sorting(word_with_duplicates)\n",
    "print has_all_unique_characters_array_sorting(word_without_duplicates)\n"
   ]
  },
  {
   "cell_type": "markdown",
   "metadata": {},
   "source": [
    "### Challenge 2: Detect whether two strings are anagrams or not\n",
    "\n",
    "\n",
    "An anagram is a word that contains exactly the same characters as another word (including the number of times each character appears)."
   ]
  },
  {
   "cell_type": "code",
   "execution_count": 17,
   "metadata": {
    "collapsed": true
   },
   "outputs": [],
   "source": [
    "# Sorts both strings, compare them. If they are anagrams, once sorted, they must be the same string\n",
    "# Time Compleixty = 2 * O(N LOG N) to sort both strings + O(N) to compare both of them, leading to O(N LOG N) time complexity\n",
    "def is_anagram_sorting(w1, w2):\n",
    "    \n",
    "    # Basic test: Length must match\n",
    "    if len(w1) is not len(w2):\n",
    "        return False\n",
    "    \n",
    "    # Sorting Strings\n",
    "    w1 = sorted(w1)\n",
    "    w2 = sorted(w2)\n",
    "    \n",
    "    return w1 == w2    "
   ]
  },
  {
   "cell_type": "code",
   "execution_count": 24,
   "metadata": {
    "collapsed": true
   },
   "outputs": [],
   "source": [
    "# This solution is faster than the first one, being able to solve it in O(N) time complexity.\n",
    "# The trick here is to use an array of size 26 (characters of the english alphabet), initialized with all zeroes.\n",
    "# For each character of the first string, increment the index of the character in the maps array, by 1. \n",
    "# Do the same for the second string, but decrement it by 1.\n",
    "# At the end, the array should still have only zeroes in it\n",
    "def is_anagram_using_map(w1, w2):\n",
    "    \n",
    "    # Basic test: Length must match\n",
    "    if len(w1) is not len(w2):\n",
    "        return False\n",
    "    \n",
    "    chars_map = [0] * 26\n",
    "    \n",
    "    for idx, _ in enumerate(w1):\n",
    "        chars_map[ord(w1[idx]) - 97] += 1\n",
    "        chars_map[ord(w2[idx]) - 97] -= 1\n",
    "        \n",
    "    \n",
    "    for character in chars_map:\n",
    "        if character is not 0:\n",
    "            return False\n",
    "        \n",
    "    return True    "
   ]
  },
  {
   "cell_type": "code",
   "execution_count": 26,
   "metadata": {
    "collapsed": false
   },
   "outputs": [
    {
     "name": "stdout",
     "output_type": "stream",
     "text": [
      "Checking anagrams by sorting:\n",
      "True\n",
      "False\n",
      "\n",
      "Checking anagrams using characters map:\n",
      "True\n",
      "False\n"
     ]
    }
   ],
   "source": [
    "w1 = 'elvis'\n",
    "w2 = 'lives'\n",
    "\n",
    "w1_n = 'Apple'\n",
    "w2_n = 'Banana'\n",
    "\n",
    "print 'Checking anagrams by sorting:'\n",
    "print is_anagram_sorting(w1,w2)\n",
    "print is_anagram_sorting(w1_n,w2_n)\n",
    "\n",
    "print '\\nChecking anagrams using characters map:'\n",
    "print is_anagram_using_map(w1,w2)\n",
    "print is_anagram_using_map(w1_n,w2_n)\n"
   ]
  },
  {
   "cell_type": "code",
   "execution_count": null,
   "metadata": {
    "collapsed": true
   },
   "outputs": [],
   "source": []
  }
 ],
 "metadata": {
  "kernelspec": {
   "display_name": "Python 2",
   "language": "python",
   "name": "python2"
  },
  "language_info": {
   "codemirror_mode": {
    "name": "ipython",
    "version": 2
   },
   "file_extension": ".py",
   "mimetype": "text/x-python",
   "name": "python",
   "nbconvert_exporter": "python",
   "pygments_lexer": "ipython2",
   "version": "2.7.11"
  }
 },
 "nbformat": 4,
 "nbformat_minor": 0
}
