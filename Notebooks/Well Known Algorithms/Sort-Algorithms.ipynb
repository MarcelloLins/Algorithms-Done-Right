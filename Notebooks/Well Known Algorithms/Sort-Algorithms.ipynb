{
 "cells": [
  {
   "cell_type": "code",
   "execution_count": 1,
   "metadata": {
    "collapsed": true
   },
   "outputs": [],
   "source": [
    "# Creating Random Array used on each sorting algorithm\n",
    "import random as rnd\n",
    "\n",
    "array_size = 100\n",
    "global_array = []\n",
    "\n",
    "while len(global_array) <= array_size:\n",
    "    global_array.append(rnd.randint(0,999))\n",
    "    "
   ]
  },
  {
   "cell_type": "markdown",
   "metadata": {
    "collapsed": true
   },
   "source": [
    "# Bubble Sort\n",
    "\n",
    "## Average Case Complexity: O(N^2)\n",
    "## Worst Case Complexity: O(N^2)\n",
    "\n",
    "\n",
    "### Tip: It's easy to check when the list is already sorted\n",
    "\n",
    "The Bubble Sort examines the array in pairs, compairing each N and N+1 element of the array, and swapping positions everytime N > N + 1. By doing this, the algorithm guarantees that after the Nth pass, the Nth biggest element will be in it's right position. In other words, after each full pass, the biggest element of the sub array examined \"bubbles up\" to the right most position of the sub array."
   ]
  },
  {
   "cell_type": "code",
   "execution_count": 2,
   "metadata": {
    "collapsed": false
   },
   "outputs": [
    {
     "name": "stdout",
     "output_type": "stream",
     "text": [
      "Array found to be sorted already. Breaking to prevent further unecessary iterations\n",
      "Sorted: [6, 12, 15, 27, 33, 38, 47, 79, 91, 139, 140, 142, 145, 149, 163, 174, 187, 194, 208, 208, 211, 223, 226, 230, 236, 245, 267, 271, 294, 307, 312, 314, 330, 341, 347, 350, 355, 361, 363, 378, 383, 387, 399, 404, 410, 428, 433, 434, 458, 458, 484, 495, 500, 508, 529, 538, 542, 549, 558, 571, 577, 578, 603, 605, 638, 651, 660, 680, 683, 696, 697, 717, 722, 736, 750, 771, 772, 772, 794, 818, 819, 825, 828, 836, 852, 854, 864, 868, 877, 884, 897, 897, 909, 914, 916, 933, 952, 960, 975, 986, 986]\n"
     ]
    }
   ],
   "source": [
    "def bubble_sort(array):\n",
    "\n",
    "    iterations, current_ceiling = 0, len(array) - 1\n",
    "\n",
    "    # Outer Loop: Forces the number of outer iterations to be equal to the number of elements in the array (N)\n",
    "    while iterations < len(array):\n",
    "\n",
    "        # Boolean to optimize the algorithm runtime\n",
    "        swapped = False\n",
    "\n",
    "        # Iterates from 0 to \"Current Ceiling\", which is decreased by 1 after each iteration.\n",
    "        # After each full iteration of the inner loop, the right-most element is guaranteed to by the biggest element in what's left of the array\n",
    "        for index, value in enumerate(array[:current_ceiling]):\n",
    "\n",
    "            # Swap Logic\n",
    "            if array[index + 1] < array[index]:\n",
    "                array[index + 1], array[index] = array[index], array[index + 1]\n",
    "                swapped = True\n",
    "\n",
    "        # Optimization that can save unecessary iterations once the list is already in a sorted state\n",
    "        if not swapped:\n",
    "            print 'Array found to be sorted already. Breaking to prevent further unecessary iterations'\n",
    "            return\n",
    "\n",
    "        # Counters and Boundaries\n",
    "        current_ceiling = current_ceiling - 1\n",
    "        iterations = iterations + 1\n",
    "        \n",
    "\n",
    "# Running It\n",
    "array = list(global_array)\n",
    "bubble_sort(array)\n",
    "print 'Sorted: %s' % array\n"
   ]
  },
  {
   "cell_type": "code",
   "execution_count": 3,
   "metadata": {
    "collapsed": false
   },
   "outputs": [
    {
     "name": "stdout",
     "output_type": "stream",
     "text": [
      "Sorted: [6, 12, 15, 27, 33, 38, 47, 79, 91, 139, 140, 142, 145, 149, 163, 174, 187, 194, 208, 208, 211, 223, 226, 230, 236, 245, 267, 271, 294, 307, 312, 314, 330, 341, 347, 350, 355, 361, 363, 378, 383, 387, 399, 404, 410, 428, 433, 434, 458, 458, 484, 495, 500, 508, 529, 538, 542, 549, 558, 571, 577, 578, 603, 605, 638, 651, 660, 680, 683, 696, 697, 717, 722, 736, 750, 771, 772, 772, 794, 818, 819, 825, 828, 836, 852, 854, 864, 868, 877, 884, 897, 897, 909, 914, 916, 933, 952, 960, 975, 986, 986]\n"
     ]
    }
   ],
   "source": [
    "def pythonic_bubble_sort(array):\n",
    "    start = len(array) - 1\n",
    "    stop = 0\n",
    "    step = -1\n",
    "    \n",
    "    for num_pass in range(start, stop, step):\n",
    "            for n in range(num_pass):\n",
    "                \n",
    "                # Swap\n",
    "                if array[n] > array[n + 1]:\n",
    "                    array[n], array[n + 1] = array[n + 1], array[n]                  \n",
    "    \n",
    "# Running It\n",
    "array = list(global_array)\n",
    "pythonic_bubble_sort(array)\n",
    "print 'Sorted: %s' % array"
   ]
  },
  {
   "cell_type": "markdown",
   "metadata": {},
   "source": [
    "# Insertion Sort\n",
    "\n",
    "## Average Case Complexity: O(N^2)\n",
    "## Worst Case Complexity: O(N^2/2)\n",
    "## Best Case Complexity: O(N)\n",
    "\n",
    "\n",
    "### TIP: In Place, uses N memory space\n",
    "\n",
    "The insertion sort, although still O(n2), works in a slightly different way. It always maintains a sorted sublist in the lower positions of the list. Each new item is then “inserted” back into the previous sublist such that the sorted sublist is one item larger"
   ]
  },
  {
   "cell_type": "code",
   "execution_count": 4,
   "metadata": {
    "collapsed": false
   },
   "outputs": [
    {
     "name": "stdout",
     "output_type": "stream",
     "text": [
      "Sorted: [6, 12, 15, 27, 33, 38, 47, 79, 91, 139, 140, 142, 145, 149, 163, 174, 187, 194, 208, 208, 211, 223, 226, 230, 236, 245, 267, 271, 294, 307, 312, 314, 330, 341, 347, 350, 355, 361, 363, 378, 383, 387, 399, 404, 410, 428, 433, 434, 458, 458, 484, 495, 500, 508, 529, 538, 542, 549, 558, 571, 577, 578, 603, 605, 638, 651, 660, 680, 683, 696, 697, 717, 722, 736, 750, 771, 772, 772, 794, 818, 819, 825, 828, 836, 852, 854, 864, 868, 877, 884, 897, 897, 909, 914, 916, 933, 952, 960, 975, 986, 986]\n"
     ]
    }
   ],
   "source": [
    "def insertion_sort(array):\n",
    "    \n",
    "    # Iterating N times, where N is the size of the list\n",
    "    for n in range(1, len(array)):\n",
    "        \n",
    "        current_value = array[n]\n",
    "        current_index = n\n",
    "        \n",
    "        # While it does not reach the first element of the sublist, and \n",
    "        # while each element is smaller than the previous one, it will keep swapping and walking backwards on the list\n",
    "        while current_index > 0 and array[current_index - 1] > current_value:\n",
    "            \n",
    "            # Swaps the current element with the one just before it\n",
    "            array[current_index] = array[current_index - 1]\n",
    "            \n",
    "            # Decrements the current position\n",
    "            current_index = current_index - 1\n",
    "            \n",
    "        # At the end of the inner loop, paste the current value into the last position checked\n",
    "        array[current_index] = current_value\n",
    "        \n",
    "# Running It\n",
    "array = list(global_array)\n",
    "insertion_sort(array)\n",
    "print 'Sorted: %s' % array"
   ]
  },
  {
   "cell_type": "markdown",
   "metadata": {
    "collapsed": false
   },
   "source": [
    "# Selection Sort\n",
    "\n",
    "## Average Case: O(N^2)\n",
    "## Worst Case: O(N^2)\n",
    "## Best Case: O(N^2)\n",
    "\n",
    "The Selection Sort Algorithm \"wins\" by it's simplicity compared to other algorithms, and so as the ones mentioned so far, it's also an \"in-place\" implementation, needing only \"N\" memory.\n",
    "\n",
    "The way it works is by building a sorted sub-list from the left to the right within the array, making sure that after each \"nth\" pass, the \"nth\" smaller element is at it's place. It scans the original array \"n\" times, making \"n-1\" comparissons at each scan, adding the smallest element to the end of the sub-list it \"creates\"."
   ]
  },
  {
   "cell_type": "code",
   "execution_count": 5,
   "metadata": {
    "collapsed": false
   },
   "outputs": [
    {
     "name": "stdout",
     "output_type": "stream",
     "text": [
      "Sorted: [6, 12, 15, 27, 33, 38, 47, 79, 91, 139, 140, 142, 145, 149, 163, 174, 187, 194, 208, 208, 211, 223, 226, 230, 236, 245, 267, 271, 294, 307, 312, 314, 330, 341, 347, 350, 355, 361, 363, 378, 383, 387, 399, 404, 410, 428, 433, 434, 458, 458, 484, 495, 500, 508, 529, 538, 542, 549, 558, 571, 577, 578, 603, 605, 638, 651, 660, 680, 683, 696, 697, 717, 722, 736, 750, 771, 772, 772, 794, 818, 819, 825, 828, 836, 852, 854, 864, 868, 877, 884, 897, 897, 909, 914, 916, 933, 952, 960, 975, 986, 986]\n"
     ]
    }
   ],
   "source": [
    "def selection_sort(array):\n",
    "        \n",
    "    # Iterating through the array \"n\" times\n",
    "    for n in range(len(array) - 1):\n",
    "        \n",
    "        # Control Variables\n",
    "        current_min = n\n",
    "        start_index = n + 1\n",
    "        \n",
    "        # Iterating from the element right before the end of the sublist, until the remainder of the array\n",
    "        for i in range(start_index, len(array)):\n",
    "            if array[i] < array[current_min]:\n",
    "                current_min = i\n",
    "            \n",
    "        # Do we have to swap ? (Have we found a new \"Minimum\" ?)\n",
    "        if current_min is not n:\n",
    "            array[n], array[current_min] = array[current_min], array[n]    \n",
    "    \n",
    "# Running It\n",
    "array = list(global_array)\n",
    "selection_sort(array)\n",
    "print 'Sorted: %s' % array\n"
   ]
  },
  {
   "cell_type": "markdown",
   "metadata": {
    "collapsed": true
   },
   "source": [
    "# Quick Sort\n",
    "\n",
    "## Average Case: O(N Log N)\n",
    "## Worst Case: O(N^2)\n",
    "## Best Case: O(N Log N)\n",
    "\n",
    "The Quicksort algorithm is an in place sorting method, meaning that it will not utilise extra memory other than the one already allocated for the array itself. This method works by picking a \"Pivot\" and calling the \"Partition\" method over this \"Pivot\" element.\n",
    "\n",
    "There are specific \"Pivot Picking\" methods that can optimize your algorithm, but the default one is to just pick the \"right-most\" element of your sub-array. Once the pivot is selected, the partition method takes place. The partition is responsible for making sure that, for any given pivot, all the elements with values less than the pivot, will be at it's left side, while the elements with value higher than the pivot, will be at it's right side. It means that, after every iteration, the pivot will be in it's proper place. After each iteration, the \"Partition\" method is called recursively to the sub-arrays generated around the pivot"
   ]
  },
  {
   "cell_type": "code",
   "execution_count": 7,
   "metadata": {
    "collapsed": false
   },
   "outputs": [
    {
     "name": "stdout",
     "output_type": "stream",
     "text": [
      "Sorted: [6, 12, 15, 27, 33, 38, 47, 79, 91, 139, 140, 142, 145, 149, 163, 174, 187, 194, 208, 208, 211, 223, 226, 230, 236, 245, 267, 271, 294, 307, 312, 314, 330, 341, 347, 350, 355, 361, 363, 378, 383, 387, 399, 404, 410, 428, 433, 434, 458, 458, 484, 495, 500, 508, 529, 538, 542, 549, 558, 571, 577, 578, 603, 605, 638, 651, 660, 680, 683, 696, 697, 717, 722, 736, 750, 771, 772, 772, 794, 818, 819, 825, 828, 836, 852, 854, 864, 868, 877, 884, 897, 897, 909, 914, 916, 933, 952, 960, 975, 986, 986]\n"
     ]
    }
   ],
   "source": [
    "# Starting with the \"Partition\" Method, that is responsible for selecting a \"Pivot\" element and ensure that all elements \" < than\"\n",
    "# the Pivot, will be on it's left, while the elements \"> than\" the Pivot, will be on it's right\n",
    "def partition(lst, start, end):\n",
    "    # Arbitraty Pivot Selection (Last element)\n",
    "    pivot = lst[end]\n",
    "    bottom = start - 1 # By starting this with (start - 1) it's value wont be messed once we increment it right at the beginning of the BOTTOM loop\n",
    "    top = end # By starting this with (end) it's value wont be messed once we decrement it at the beggining of the TOP loop\n",
    "    \n",
    "    should_break = False\n",
    "    while not should_break:\n",
    "    \n",
    "        # Bottom Loop - Looking for one element that's > than the Pivot\n",
    "        while not should_break:\n",
    "            bottom = bottom + 1\n",
    "\n",
    "            # Stop Condition = Bottom and top are the same index\n",
    "            if bottom is top:\n",
    "                should_break = True\n",
    "                break\n",
    "            \n",
    "            # Changing this element with the one on the current top\n",
    "            if lst[bottom] > pivot:\n",
    "                lst[top] = lst[bottom]\n",
    "                break\n",
    "            \n",
    "        # Top Loop - Looking for one element that's < than the Pivot\n",
    "        while not should_break:\n",
    "            top = top - 1\n",
    "            \n",
    "            if bottom is top:\n",
    "                should_break = True\n",
    "                break\n",
    "                \n",
    "            # Changing this element with the one on the current top\n",
    "            if lst[top] < pivot:\n",
    "                lst[bottom] = lst[top]\n",
    "                break\n",
    "                \n",
    "    # Time to Put the Pivot into it's right place\n",
    "    lst[top] = pivot\n",
    "    return top # New Split Point\n",
    "\n",
    "\n",
    "def quick_sort(lst, start, end):\n",
    "    \n",
    "    if start > end:\n",
    "        return\n",
    "    \n",
    "    # Splitpoint\n",
    "    split_point = partition(lst, start, end)\n",
    "    \n",
    "    # Recursivelly partitioning the list\n",
    "    quick_sort(lst, start, split_point - 1)\n",
    "    quick_sort(lst, split_point + 1, end)\n",
    "    \n",
    "# Running It\n",
    "array = list(global_array)\n",
    "quick_sort(array, 0, len(array) - 1)\n",
    "print 'Sorted: %s' % array\n",
    "    \n",
    "    "
   ]
  },
  {
   "cell_type": "code",
   "execution_count": null,
   "metadata": {
    "collapsed": true
   },
   "outputs": [],
   "source": []
  }
 ],
 "metadata": {
  "kernelspec": {
   "display_name": "Python 2",
   "language": "python",
   "name": "python2"
  },
  "language_info": {
   "codemirror_mode": {
    "name": "ipython",
    "version": 2
   },
   "file_extension": ".py",
   "mimetype": "text/x-python",
   "name": "python",
   "nbconvert_exporter": "python",
   "pygments_lexer": "ipython2",
   "version": "2.7.11"
  }
 },
 "nbformat": 4,
 "nbformat_minor": 0
}
