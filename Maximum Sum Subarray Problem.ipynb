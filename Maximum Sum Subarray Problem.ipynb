{
 "cells": [
  {
   "cell_type": "markdown",
   "metadata": {},
   "source": [
    "## The Problem\n",
    "\n",
    "Given an array of numbers as the input, the code must be able to find the largest \"SUM\" of \"contiguous\" elements within that array."
   ]
  },
  {
   "cell_type": "code",
   "execution_count": 3,
   "metadata": {
    "collapsed": true
   },
   "outputs": [],
   "source": [
    "first_array = [-2, 1, 3, -4, 7] # For this array the maximum sum of contiguous elements is \"7\" (a single element, which may happen)\n",
    "second_array = [-2, 1, 3, -4, 3] # For this array the maximum sum of contiguous elements is \"4\" (1 + 3)"
   ]
  },
  {
   "cell_type": "markdown",
   "metadata": {},
   "source": [
    "### The Brute Force Implementation\n",
    "\n",
    "One way to solve this problem is to apply brute force, executing all the possible SUMS of values of the array, using brute force. We can achieve that in O(N^2) time, where \"N\" is the number of elements within the array"
   ]
  },
  {
   "cell_type": "code",
   "execution_count": 7,
   "metadata": {
    "collapsed": false
   },
   "outputs": [
    {
     "name": "stdout",
     "output_type": "stream",
     "text": [
      "First Array Max Sum: 7\n",
      "Second Array Max Sum: 4\n"
     ]
    }
   ],
   "source": [
    "def brute_force_solution(array):\n",
    "    \n",
    "    global_max = current_max = array[0]\n",
    "    \n",
    "    # Outer loop is used to \"brute-force\" the possible combinations of \"sums\"\n",
    "    for lower_index in range(len(array)):\n",
    "        current_max = 0\n",
    "        \n",
    "        for upper_index in range(lower_index, len(array)):\n",
    "            current_max = current_max + array[upper_index]\n",
    "            \n",
    "            # The highest sum until this point, is cached into it's own variable\n",
    "            if current_max > global_max:\n",
    "                global_max = current_max\n",
    "        \n",
    "    return global_max\n",
    "\n",
    "\n",
    "# Running it\n",
    "print '[Brute-Force] First Array Max Sum: %d' % brute_force_solution(first_array)\n",
    "print '[Brute-Force] Second Array Max Sum: %d' % brute_force_solution(second_array)\n",
    "    "
   ]
  },
  {
   "cell_type": "markdown",
   "metadata": {},
   "source": [
    "## Kadane's Implementation\n",
    "\n",
    "The Kadane's implementation of the solution for the \"Maximum Sum Subarray\" problem is based on the following hypothesis (that is proven mathematically): \n",
    "\n",
    "##### \"The Maximum Sum Until the 'nth' element is either equal to the value of the 'nth' element, or to the maximum sum until 'n-1' plus the value of the 'nth' element\"\n",
    "\n",
    "Because of that, we can solve the same problem in O(N) time, since we already have the \"maximum sum until the nth -1 element\" cached in memory, in a variable\n",
    "\n",
    "E.G: Given the following array [-2,1,6,-3,2] , the maximum SUM up to the Index = 2 (element value \"6\") is either \"6\" or \"-2 +1\". In this case, the maximum sum is \"6\". "
   ]
  },
  {
   "cell_type": "code",
   "execution_count": 8,
   "metadata": {
    "collapsed": false
   },
   "outputs": [
    {
     "name": "stdout",
     "output_type": "stream",
     "text": [
      "[Kadane's] First Array Max Sum: 7\n",
      "[Kadane's] Second Array Max Sum: 4\n"
     ]
    }
   ],
   "source": [
    "def maximum_sum_sub_array(array):\n",
    "    global_max = current_max = array[0]\n",
    "    \n",
    "    start_index = 1 # Since the global_max is already the first one, we can skip it without ruining the logic\n",
    "    iterations = len(array) - 1 # \"N-1\" since we skipped the first element already\n",
    "    step = 1 # Iteration step = 1\n",
    "    \n",
    "    # Iteration starting from the second element\n",
    "    for n in range(start_index, iterations, step):\n",
    "        \n",
    "        # Based on the theorem, the maximum until the 'nth' element is either the value of this element\n",
    "        # or the sum of the maximum until the 'nth - 1' element + the value of the 'nth' element\n",
    "        current_max = max(current_max + array[n], array[n])\n",
    "        \n",
    "        if current_max > global_max:\n",
    "            global_max = current_max\n",
    "            \n",
    "    return global_max        \n",
    "  \n",
    "# Running it\n",
    "print '[Kadane\\'s] First Array Max Sum: %d' % brute_force_solution(first_array)\n",
    "print '[Kadane\\'s] Second Array Max Sum: %d' % brute_force_solution(second_array)\n",
    "    "
   ]
  },
  {
   "cell_type": "code",
   "execution_count": null,
   "metadata": {
    "collapsed": true
   },
   "outputs": [],
   "source": []
  }
 ],
 "metadata": {
  "kernelspec": {
   "display_name": "Python 2",
   "language": "python",
   "name": "python2"
  },
  "language_info": {
   "codemirror_mode": {
    "name": "ipython",
    "version": 2
   },
   "file_extension": ".py",
   "mimetype": "text/x-python",
   "name": "python",
   "nbconvert_exporter": "python",
   "pygments_lexer": "ipython2",
   "version": "2.7.9"
  }
 },
 "nbformat": 4,
 "nbformat_minor": 0
}
