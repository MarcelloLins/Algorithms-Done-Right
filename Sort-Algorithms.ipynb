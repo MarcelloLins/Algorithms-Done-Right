{
 "cells": [
  {
   "cell_type": "code",
   "execution_count": 14,
   "metadata": {
    "collapsed": true
   },
   "outputs": [],
   "source": [
    "# Creating Random Array used on each sorting algorithm\n",
    "import random as rnd\n",
    "\n",
    "array_size = 100\n",
    "global_array = []\n",
    "\n",
    "while len(global_array) <= array_size:\n",
    "    global_array.append(rnd.randint(0,999))\n",
    "    "
   ]
  },
  {
   "cell_type": "markdown",
   "metadata": {
    "collapsed": true
   },
   "source": [
    "# Bubble Sort\n",
    "\n",
    "## Average Case Complexity: O(N^2)\n",
    "## Worst Case Complexity: O(N^2)\n",
    "\n",
    "\n",
    "### Tip: It's easy to check when the list is already sorted\n",
    "\n",
    "The Bubble Sort examines the array in pairs, compairing each N and N+1 element of the array, and swapping positions everytime N > N + 1. By doing this, the algorithm guarantees that after the Nth pass, the Nth biggest element will be in it's right position. In other words, after each full pass, the biggest element of the sub array examined \"bubbles up\" to the right most position of the sub array."
   ]
  },
  {
   "cell_type": "code",
   "execution_count": 21,
   "metadata": {
    "collapsed": false
   },
   "outputs": [
    {
     "name": "stdout",
     "output_type": "stream",
     "text": [
      "Array found to be sorted already. Breaking to prevent further unecessary iterations\n",
      "Sorted: [2, 3, 28, 40, 68, 78, 78, 82, 116, 152, 152, 153, 159, 160, 160, 167, 167, 172, 180, 182, 191, 203, 227, 229, 231, 237, 237, 250, 251, 262, 269, 278, 295, 309, 318, 347, 350, 378, 423, 440, 447, 460, 471, 472, 484, 497, 509, 515, 531, 543, 566, 572, 593, 603, 605, 615, 617, 618, 630, 633, 638, 641, 644, 644, 674, 678, 679, 684, 718, 723, 735, 741, 747, 767, 779, 796, 806, 820, 824, 828, 838, 842, 848, 860, 874, 874, 876, 897, 903, 903, 913, 917, 937, 939, 953, 964, 969, 976, 979, 983, 996]\n"
     ]
    }
   ],
   "source": [
    "def bubble_sort(array):\n",
    "\n",
    "    iterations, current_ceiling = 0, len(array) - 1\n",
    "\n",
    "    # Outer Loop: Forces the number of outer iterations to be equal to the number of elements in the array (N)\n",
    "    while iterations < len(array):\n",
    "\n",
    "        # Boolean to optimize the algorithm runtime\n",
    "        swapped = False\n",
    "\n",
    "        # Iterates from 0 to \"Current Ceiling\", which is decreased by 1 after each iteration.\n",
    "        # After each full iteration of the inner loop, the right-most element is guaranteed to by the biggest element in what's left of the array\n",
    "        for index, value in enumerate(array[:current_ceiling]):\n",
    "\n",
    "            # Swap Logic\n",
    "            if array[index + 1] < array[index]:\n",
    "                array[index + 1], array[index] = array[index], array[index + 1]\n",
    "                swapped = True\n",
    "\n",
    "        # Optimization that can save unecessary iterations once the list is already in a sorted state\n",
    "        if not swapped:\n",
    "            print 'Array found to be sorted already. Breaking to prevent further unecessary iterations'\n",
    "            return\n",
    "\n",
    "        # Counters and Boundaries\n",
    "        current_ceiling = current_ceiling - 1\n",
    "        iterations = iterations + 1\n",
    "        \n",
    "\n",
    "# Running It\n",
    "array = list(global_array)\n",
    "bubble_sort(array)\n",
    "print 'Sorted: %s' % array\n"
   ]
  },
  {
   "cell_type": "code",
   "execution_count": 22,
   "metadata": {
    "collapsed": false
   },
   "outputs": [
    {
     "name": "stdout",
     "output_type": "stream",
     "text": [
      "Sorted: [2, 3, 28, 40, 68, 78, 78, 82, 116, 152, 152, 153, 159, 160, 160, 167, 167, 172, 180, 182, 191, 203, 227, 229, 231, 237, 237, 250, 251, 262, 269, 278, 295, 309, 318, 347, 350, 378, 423, 440, 447, 460, 471, 472, 484, 497, 509, 515, 531, 543, 566, 572, 593, 603, 605, 615, 617, 618, 630, 633, 638, 641, 644, 644, 674, 678, 679, 684, 718, 723, 735, 741, 747, 767, 779, 796, 806, 820, 824, 828, 838, 842, 848, 860, 874, 874, 876, 897, 903, 903, 913, 917, 937, 939, 953, 964, 969, 976, 979, 983, 996]\n"
     ]
    }
   ],
   "source": [
    "def pythonic_bubble_sort(array):\n",
    "    iterations = len(array) - 1\n",
    "    stop = 0\n",
    "    step = -1\n",
    "    \n",
    "    for num_pass in range(iterations, stop, step):\n",
    "            for n in range(num_pass):\n",
    "                \n",
    "                # Swap\n",
    "                if array[n] > array[n + 1]:\n",
    "                    array[n], array[n + 1] = array[n + 1], array[n]                  \n",
    "    \n",
    "# Running It\n",
    "array = list(global_array)\n",
    "pythonic_bubble_sort(array)\n",
    "print 'Sorted: %s' % array"
   ]
  },
  {
   "cell_type": "markdown",
   "metadata": {},
   "source": [
    "# Insertion Sort\n",
    "\n",
    "## Average Case Complexity: O(N^2)\n",
    "## Worst Case Complexity: O(N^2/2)\n",
    "## Best Case Complexity: O(N)\n",
    "\n",
    "\n",
    "### TIP: In Place, uses N memory space\n",
    "\n",
    "The insertion sort, although still O(n2), works in a slightly different way. It always maintains a sorted sublist in the lower positions of the list. Each new item is then “inserted” back into the previous sublist such that the sorted sublist is one item larger"
   ]
  },
  {
   "cell_type": "code",
   "execution_count": 30,
   "metadata": {
    "collapsed": false
   },
   "outputs": [
    {
     "name": "stdout",
     "output_type": "stream",
     "text": [
      "Sorted: [2, 3, 28, 40, 68, 78, 78, 82, 116, 152, 152, 153, 159, 160, 160, 167, 167, 172, 180, 182, 191, 203, 227, 229, 231, 237, 237, 250, 251, 262, 269, 278, 295, 309, 318, 347, 350, 378, 423, 440, 447, 460, 471, 472, 484, 497, 509, 515, 531, 543, 566, 572, 593, 603, 605, 615, 617, 618, 630, 633, 638, 641, 644, 644, 674, 678, 679, 684, 718, 723, 735, 741, 747, 767, 779, 796, 806, 820, 824, 828, 838, 842, 848, 860, 874, 874, 876, 897, 903, 903, 913, 917, 937, 939, 953, 964, 969, 976, 979, 983, 996]\n"
     ]
    }
   ],
   "source": [
    "def insertion_sort(array):\n",
    "    \n",
    "    # Iterating N times, where N is the size of the list\n",
    "    for n in range(1, len(array)):\n",
    "        \n",
    "        current_value = array[n]\n",
    "        current_index = n\n",
    "        \n",
    "        # While it does not reach the first element of the sublist, and \n",
    "        # while each element is smaller than the previous one, it will keep swapping and walking backwards on the list\n",
    "        while current_index > 0 and array[current_index - 1] > current_value:\n",
    "            \n",
    "            # Swaps the current element with the one just before it\n",
    "            array[current_index] = array[current_index - 1]\n",
    "            \n",
    "            # Decrements the current position\n",
    "            current_index = current_index - 1\n",
    "            \n",
    "        # At the end of the inner loop, paste the current value into the last position checked\n",
    "        array[current_index] = current_value\n",
    "        \n",
    "# Running It\n",
    "array = list(global_array)\n",
    "insertion_sort(array)\n",
    "print 'Sorted: %s' % array"
   ]
  },
  {
   "cell_type": "code",
   "execution_count": null,
   "metadata": {
    "collapsed": false
   },
   "outputs": [],
   "source": []
  },
  {
   "cell_type": "code",
   "execution_count": null,
   "metadata": {
    "collapsed": true
   },
   "outputs": [],
   "source": []
  }
 ],
 "metadata": {
  "kernelspec": {
   "display_name": "Python 2",
   "language": "python",
   "name": "python2"
  },
  "language_info": {
   "codemirror_mode": {
    "name": "ipython",
    "version": 2
   },
   "file_extension": ".py",
   "mimetype": "text/x-python",
   "name": "python",
   "nbconvert_exporter": "python",
   "pygments_lexer": "ipython2",
   "version": "2.7.11"
  }
 },
 "nbformat": 4,
 "nbformat_minor": 0
}
