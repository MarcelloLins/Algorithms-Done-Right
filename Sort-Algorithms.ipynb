{
 "cells": [
  {
   "cell_type": "code",
   "execution_count": 5,
   "metadata": {
    "collapsed": true
   },
   "outputs": [],
   "source": [
    "# Creating Random Array used on each sorting algorithm\n",
    "import random as rnd\n",
    "\n",
    "array_size = 100\n",
    "global_array = []\n",
    "\n",
    "while len(global_array) <= array_size:\n",
    "    global_array.append(rnd.randint(0,999))\n",
    "    "
   ]
  },
  {
   "cell_type": "markdown",
   "metadata": {
    "collapsed": true
   },
   "source": [
    "# Bubble Sort\n",
    "\n",
    "## Average Case Complexity: O(N^2)\n",
    "## Worst Case Complexity: O(N^2)\n",
    "\n",
    "\n",
    "### Tip: It's easy to check when the list is already sorted\n",
    "\n",
    "The Bubble Sort examines the array in pairs, compairing each N and N+1 element of the array, and swapping positions everytime N > N + 1. By doing this, the algorithm guarantees that after the Nth pass, the Nth biggest element will be in it's right position. In other words, after each full pass, the biggest element of the sub array examined \"bubbles up\" to the right most position of the sub array."
   ]
  },
  {
   "cell_type": "code",
   "execution_count": 6,
   "metadata": {
    "collapsed": false
   },
   "outputs": [
    {
     "name": "stdout",
     "output_type": "stream",
     "text": [
      "Array found to be sorted already. Breaking to prevent further unecessary iterations\n",
      "Sorted: [25, 28, 32, 39, 40, 40, 56, 63, 63, 73, 73, 80, 86, 88, 95, 100, 109, 143, 145, 145, 151, 176, 204, 206, 220, 266, 280, 283, 285, 290, 291, 303, 303, 318, 323, 326, 346, 360, 376, 388, 404, 408, 414, 418, 437, 441, 446, 456, 460, 466, 469, 489, 493, 504, 512, 541, 542, 549, 563, 580, 586, 589, 590, 592, 603, 611, 622, 637, 638, 641, 645, 659, 685, 689, 711, 735, 740, 741, 748, 755, 762, 766, 782, 786, 798, 799, 808, 813, 835, 856, 865, 898, 906, 920, 921, 937, 949, 949, 951, 967, 988]\n"
     ]
    }
   ],
   "source": [
    "def bubble_sort(array):\n",
    "\n",
    "    iterations, current_ceiling = 0, len(array) - 1\n",
    "\n",
    "    # Outer Loop: Forces the number of outer iterations to be equal to the number of elements in the array (N)\n",
    "    while iterations < len(array):\n",
    "\n",
    "        # Boolean to optimize the algorithm runtime\n",
    "        swapped = False\n",
    "\n",
    "        # Iterates from 0 to \"Current Ceiling\", which is decreased by 1 after each iteration.\n",
    "        # After each full iteration of the inner loop, the right-most element is guaranteed to by the biggest element in what's left of the array\n",
    "        for index, value in enumerate(array[:current_ceiling]):\n",
    "\n",
    "            # Swap Logic\n",
    "            if array[index + 1] < array[index]:\n",
    "                array[index + 1], array[index] = array[index], array[index + 1]\n",
    "                swapped = True\n",
    "\n",
    "        # Optimization that can save unecessary iterations once the list is already in a sorted state\n",
    "        if not swapped:\n",
    "            print 'Array found to be sorted already. Breaking to prevent further unecessary iterations'\n",
    "            return\n",
    "\n",
    "        # Counters and Boundaries\n",
    "        current_ceiling = current_ceiling - 1\n",
    "        iterations = iterations + 1\n",
    "        \n",
    "\n",
    "# Running It\n",
    "array = list(global_array)\n",
    "bubble_sort(array)\n",
    "print 'Sorted: %s' % array\n"
   ]
  },
  {
   "cell_type": "code",
   "execution_count": 16,
   "metadata": {
    "collapsed": false
   },
   "outputs": [
    {
     "name": "stdout",
     "output_type": "stream",
     "text": [
      "Sorted: [25, 28, 32, 39, 40, 40, 56, 63, 63, 73, 73, 80, 86, 88, 95, 100, 109, 143, 145, 145, 151, 176, 204, 206, 220, 266, 280, 283, 285, 290, 291, 303, 303, 318, 323, 326, 346, 360, 376, 388, 404, 408, 414, 418, 437, 441, 446, 456, 460, 466, 469, 489, 493, 504, 512, 541, 542, 549, 563, 580, 586, 589, 590, 592, 603, 611, 622, 637, 638, 641, 645, 659, 685, 689, 711, 735, 740, 741, 748, 755, 762, 766, 782, 786, 798, 799, 808, 813, 835, 856, 865, 898, 906, 920, 921, 937, 949, 949, 951, 967, 988]\n"
     ]
    }
   ],
   "source": [
    "def pythonic_bubble_sort(array):\n",
    "    start = len(array) - 1\n",
    "    stop = 0\n",
    "    step = -1\n",
    "    \n",
    "    for num_pass in range(start, stop, step):\n",
    "            for n in range(num_pass):\n",
    "                \n",
    "                # Swap\n",
    "                if array[n] > array[n + 1]:\n",
    "                    array[n], array[n + 1] = array[n + 1], array[n]                  \n",
    "    \n",
    "# Running It\n",
    "array = list(global_array)\n",
    "pythonic_bubble_sort(array)\n",
    "print 'Sorted: %s' % array"
   ]
  },
  {
   "cell_type": "markdown",
   "metadata": {},
   "source": [
    "# Insertion Sort\n",
    "\n",
    "## Average Case Complexity: O(N^2)\n",
    "## Worst Case Complexity: O(N^2/2)\n",
    "## Best Case Complexity: O(N)\n",
    "\n",
    "\n",
    "### TIP: In Place, uses N memory space\n",
    "\n",
    "The insertion sort, although still O(n2), works in a slightly different way. It always maintains a sorted sublist in the lower positions of the list. Each new item is then “inserted” back into the previous sublist such that the sorted sublist is one item larger"
   ]
  },
  {
   "cell_type": "code",
   "execution_count": 8,
   "metadata": {
    "collapsed": false
   },
   "outputs": [
    {
     "name": "stdout",
     "output_type": "stream",
     "text": [
      "Sorted: [25, 28, 32, 39, 40, 40, 56, 63, 63, 73, 73, 80, 86, 88, 95, 100, 109, 143, 145, 145, 151, 176, 204, 206, 220, 266, 280, 283, 285, 290, 291, 303, 303, 318, 323, 326, 346, 360, 376, 388, 404, 408, 414, 418, 437, 441, 446, 456, 460, 466, 469, 489, 493, 504, 512, 541, 542, 549, 563, 580, 586, 589, 590, 592, 603, 611, 622, 637, 638, 641, 645, 659, 685, 689, 711, 735, 740, 741, 748, 755, 762, 766, 782, 786, 798, 799, 808, 813, 835, 856, 865, 898, 906, 920, 921, 937, 949, 949, 951, 967, 988]\n"
     ]
    }
   ],
   "source": [
    "def insertion_sort(array):\n",
    "    \n",
    "    # Iterating N times, where N is the size of the list\n",
    "    for n in range(1, len(array)):\n",
    "        \n",
    "        current_value = array[n]\n",
    "        current_index = n\n",
    "        \n",
    "        # While it does not reach the first element of the sublist, and \n",
    "        # while each element is smaller than the previous one, it will keep swapping and walking backwards on the list\n",
    "        while current_index > 0 and array[current_index - 1] > current_value:\n",
    "            \n",
    "            # Swaps the current element with the one just before it\n",
    "            array[current_index] = array[current_index - 1]\n",
    "            \n",
    "            # Decrements the current position\n",
    "            current_index = current_index - 1\n",
    "            \n",
    "        # At the end of the inner loop, paste the current value into the last position checked\n",
    "        array[current_index] = current_value\n",
    "        \n",
    "# Running It\n",
    "array = list(global_array)\n",
    "insertion_sort(array)\n",
    "print 'Sorted: %s' % array"
   ]
  },
  {
   "cell_type": "markdown",
   "metadata": {
    "collapsed": false
   },
   "source": [
    "# Selection Sort\n",
    "\n",
    "## Average Case: O(N^2)\n",
    "## Worst Case: O(N^2)\n",
    "## Best Case: O(N^2)\n",
    "\n",
    "The Selection Sort Algorithm \"wins\" by it's simplicity compared to other algorithms, and so as the ones mentioned so far, it's also an \"in-place\" implementation, needing only \"N\" memory.\n",
    "\n",
    "The way it works is by building a sorted sub-list from the left to the right within the array, making sure that after each \"nth\" pass, the \"nth\" smaller element is at it's place. It scans the original array \"n\" times, making \"n-1\" comparissons at each scan, adding the smallest element to the end of the sub-list it \"creates\"."
   ]
  },
  {
   "cell_type": "code",
   "execution_count": 15,
   "metadata": {
    "collapsed": false
   },
   "outputs": [
    {
     "name": "stdout",
     "output_type": "stream",
     "text": [
      "Sorted: [638, 466, 541, 590, 326, 735, 741, 685, 290, 967, 512, 755, 504, 813, 951, 95, 589, 414, 786, 645, 748, 63, 291, 906, 856, 782, 563, 388, 798, 360, 88, 446, 109, 808, 437, 318, 920, 176, 40, 408, 283, 637, 988, 418, 220, 949, 303, 441, 766, 622, 659, 549, 469, 799, 921, 56, 592, 143, 580, 456, 86, 603, 39, 303, 835, 740, 611, 460, 63, 898, 266, 346, 949, 762, 285, 73, 145, 376, 100, 32, 80, 404, 145, 28, 865, 151, 711, 206, 586, 689, 493, 323, 40, 73, 489, 280, 641, 542, 937, 25, 204]\n"
     ]
    }
   ],
   "source": [
    "def selection_sort(array):\n",
    "    \n",
    "    array_length = len(array)\n",
    "    \n",
    "    # Iterating through the array \"n\" times\n",
    "    for n in range(len(array) - 1):\n",
    "        \n",
    "        # Control Variables\n",
    "        iterations = (array_length - n)\n",
    "        current_min = n\n",
    "        start_index = n + 1\n",
    "        \n",
    "        # Iterating from the element right before the end of the sublist, until the remainder of the array\n",
    "        for idx in range(iterations, start_index, 1):\n",
    "            if array[idx] < array[current_min]:\n",
    "                current_min = idx\n",
    "            \n",
    "        # Do we have to swap ? (Have we found a new \"Minimum\" ?)\n",
    "        if current_min is not n:\n",
    "            array[n], array[current_min] = array[current_min], array[n]    \n",
    "    \n",
    "# Running It\n",
    "array = list(global_array)\n",
    "selection_sort(array)\n",
    "print 'Sorted: %s' % array\n"
   ]
  },
  {
   "cell_type": "code",
   "execution_count": null,
   "metadata": {
    "collapsed": true
   },
   "outputs": [],
   "source": []
  }
 ],
 "metadata": {
  "kernelspec": {
   "display_name": "Python 2",
   "language": "python",
   "name": "python2"
  },
  "language_info": {
   "codemirror_mode": {
    "name": "ipython",
    "version": 2
   },
   "file_extension": ".py",
   "mimetype": "text/x-python",
   "name": "python",
   "nbconvert_exporter": "python",
   "pygments_lexer": "ipython2",
   "version": "2.7.11"
  }
 },
 "nbformat": 4,
 "nbformat_minor": 0
}
